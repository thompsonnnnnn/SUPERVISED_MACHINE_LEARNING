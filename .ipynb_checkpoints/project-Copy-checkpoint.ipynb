{
 "cells": [
  {
   "cell_type": "markdown",
   "id": "1a59ec0e-34c4-4604-b600-da2af27d0ef2",
   "metadata": {},
   "source": [
    "# Project Overview — “Can We Play?” for Proven Data Private Limited\n"
   ]
  },
  {
   "cell_type": "markdown",
   "id": "a355e559-21bf-48a7-a4db-e9ad1de0483b",
   "metadata": {},
   "source": [
    "# Setup & Importing necessary Libraries"
   ]
  },
  {
   "cell_type": "markdown",
   "id": "0906d392-b574-4b94-af9f-125f8c88fe55",
   "metadata": {},
   "source": [
    "## Company background\n",
    "\n",
    "Proven Data Private Limited runs community leagues, coaching clinics, and weekend tournaments for football, tennis, and ultimate frisbee across 12 outdoor venues. Revenue is driven by scheduled sessions, equipment rentals, and concessions. Weather volatility creates last-minute cancellations, safety risks, and poor utilization of fields and staff.\n",
    "\n",
    "\n",
    "## Problem statement\n",
    "\n",
    "OAA lacks a consistent, data-driven way to decide if conditions are suitable for outdoor sport. Coordinators rely on ad-hoc checks (weather apps + phone calls), leading to:\n",
    "\n",
    "* Lost revenue from avoidable cancellations and under-booking.\n",
    "\n",
    "* Safety incidents when play proceeds during poor conditions.\n",
    "\n",
    "* Operational waste (staff travel, lights, groundskeeping) when sessions are canceled too late.\n",
    "\n",
    "\n",
    "## Executive summary\n",
    "\n",
    "Proven Data Private Limited will deploy a lightweight, supervised classification system to make consistent go/no-go decisions for outdoor sessions. By combining basic weather features with a deployable Streamlit app, OAA expects fewer last-minute cancellations, safer play, and higher field utilization—while laying the groundwork for richer, forecast-driven scheduling in subsequent phases.\n",
    "\n",
    "## Your Task \n",
    "We need a predictive system that classifies upcoming sessions as Play = Yes/No from weather conditions, with a simple interface for coordinators and coaches. The system should be accurate, fast, and auditable, and it should integrate into daily scheduling decisions. This is a Supervised Learning"
   ]
  },
  {
   "cell_type": "code",
   "execution_count": 27,
   "id": "6319c3d2-3c76-4c29-a167-8d1ac3aa395a",
   "metadata": {},
   "outputs": [],
   "source": [
    "## If running in a fresh environment, uncomment:\n",
    "## %pip install pandas scikit-learn matplotlib joblib\n",
    "\n",
    "# import json\n",
    "# import joblib\n",
    "# import numpy as np\n",
    "# import pandas as pd\n",
    "# import matplotlib.pyplot as plt\n",
    "# from pathlib import Path\n",
    "\n",
    "# from sklearn.preprocessing import OneHotEncoder, MaxAbsScaler\n",
    "# from sklearn.model_selection import train_test_split\n",
    "# from sklearn.pipeline import Pipeline\n",
    "# from sklearn.metrics import accuracy_score, classification_report, confusion_matrix, ConfusionMatrixDisplay\n",
    "\n",
    "# from sklearn.linear_model import LogisticRegression\n",
    "# from sklearn.tree import DecisionTreeClassifier\n",
    "# from sklearn.ensemble import RandomForestClassifier\n",
    "# from sklearn.svm import LinearSVC\n",
    "\n",
    "# RANDOM_STATE = 42\n",
    "# np.random.seed(RANDOM_STATE)\n",
    "\n",
    "# ARTIFACTS_DIR = Path(\"artifacts\")\n",
    "# ARTIFACTS_DIR.mkdir(exist_ok=True)\n"
   ]
  },
  {
   "cell_type": "markdown",
   "id": "6bb91334-4e62-402f-b2e8-d78884b57a55",
   "metadata": {},
   "source": [
    "# Loading the dataset"
   ]
  },
  {
   "cell_type": "code",
   "execution_count": null,
   "id": "f518881a-8fdd-4047-b737-12a2d2788277",
   "metadata": {},
   "outputs": [],
   "source": []
  },
  {
   "cell_type": "markdown",
   "id": "61409a12-8e58-4f34-abbd-c8e32040e319",
   "metadata": {},
   "source": [
    "# Exploring the dataset"
   ]
  },
  {
   "cell_type": "code",
   "execution_count": null,
   "id": "0a00218c-ed7f-4044-a418-10eb86ddef7e",
   "metadata": {},
   "outputs": [],
   "source": []
  },
  {
   "cell_type": "markdown",
   "id": "2f28fb55-8168-451e-a90b-25620c16cb62",
   "metadata": {},
   "source": [
    "# Cleaning the dataset"
   ]
  },
  {
   "cell_type": "code",
   "execution_count": null,
   "id": "5326cf92-d16c-4377-a7f4-b93590bf9afd",
   "metadata": {},
   "outputs": [],
   "source": []
  },
  {
   "cell_type": "code",
   "execution_count": null,
   "id": "e5f3efb8-b4c4-492d-a4f6-caabe01d6f71",
   "metadata": {},
   "outputs": [],
   "source": []
  },
  {
   "cell_type": "markdown",
   "id": "cd398270-7373-4a9b-803f-64a055b49942",
   "metadata": {},
   "source": [
    "# Define features/target"
   ]
  },
  {
   "cell_type": "code",
   "execution_count": null,
   "id": "e792ff68-831d-4824-a356-3b7f3b79c67e",
   "metadata": {},
   "outputs": [],
   "source": []
  },
  {
   "cell_type": "code",
   "execution_count": null,
   "id": "524bc0c2-5c02-4373-bf8f-50efdeb3cb45",
   "metadata": {},
   "outputs": [],
   "source": [
    "\n"
   ]
  },
  {
   "cell_type": "code",
   "execution_count": null,
   "id": "96119fd6-f4c8-49c3-80bf-643dfaaff616",
   "metadata": {},
   "outputs": [],
   "source": []
  },
  {
   "cell_type": "code",
   "execution_count": null,
   "id": "8ec45664-3b43-4213-8f72-d368683eae5d",
   "metadata": {},
   "outputs": [],
   "source": []
  },
  {
   "cell_type": "markdown",
   "id": "3214ce4f-4319-496d-991c-e739bebef15d",
   "metadata": {},
   "source": [
    "# Split the dataset into train and test sets"
   ]
  },
  {
   "cell_type": "code",
   "execution_count": null,
   "id": "7bf6be1e-ee7a-4e2e-9bb0-555a0dc8b32b",
   "metadata": {},
   "outputs": [],
   "source": []
  },
  {
   "cell_type": "code",
   "execution_count": null,
   "id": "efbb0845-9933-40f9-8df9-b980dd385345",
   "metadata": {},
   "outputs": [],
   "source": []
  },
  {
   "cell_type": "code",
   "execution_count": null,
   "id": "92cc366d-31de-4fe6-b5dc-add56414f664",
   "metadata": {},
   "outputs": [],
   "source": []
  },
  {
   "cell_type": "code",
   "execution_count": null,
   "id": "fa06ee12-e805-4436-9e54-8752209a2e7c",
   "metadata": {},
   "outputs": [],
   "source": []
  },
  {
   "cell_type": "code",
   "execution_count": null,
   "id": "4f239c30-6c13-43bf-a174-2961035e4b84",
   "metadata": {},
   "outputs": [],
   "source": []
  },
  {
   "cell_type": "markdown",
   "id": "50330bb8-9614-4c37-85a7-42d41a458802",
   "metadata": {},
   "source": [
    "# Apply feature scaling (optional, appropriate for linear models)"
   ]
  },
  {
   "cell_type": "code",
   "execution_count": null,
   "id": "8db78517-710f-4ac8-9671-af8e108dea8c",
   "metadata": {},
   "outputs": [],
   "source": []
  },
  {
   "cell_type": "markdown",
   "id": "f8bea457-973e-40ef-8846-430a0e5718b1",
   "metadata": {},
   "source": [
    "# Train different models and make predictions"
   ]
  },
  {
   "cell_type": "code",
   "execution_count": 41,
   "id": "a850bd23-25a6-4631-8f70-85969ea7762c",
   "metadata": {},
   "outputs": [],
   "source": [
    "# Logistic Regression\n",
    "logreg_model = Pipeline([(\"prep\", preprocess), (\"model\", LogisticRegression(max_iter=1000))])\n"
   ]
  },
  {
   "cell_type": "code",
   "execution_count": 42,
   "id": "5f054bce-a182-48fb-8e21-0eaa3bea98b8",
   "metadata": {},
   "outputs": [
    {
     "data": {
      "text/plain": [
       "0.6666666666666666"
      ]
     },
     "execution_count": 42,
     "metadata": {},
     "output_type": "execute_result"
    }
   ],
   "source": []
  },
  {
   "cell_type": "code",
   "execution_count": 3,
   "id": "9b5b0cce-8c0b-4936-97ba-d97b69084203",
   "metadata": {},
   "outputs": [
    {
     "ename": "NameError",
     "evalue": "name 'Pipeline' is not defined",
     "output_type": "error",
     "traceback": [
      "\u001b[1;31m---------------------------------------------------------------------------\u001b[0m",
      "\u001b[1;31mNameError\u001b[0m                                 Traceback (most recent call last)",
      "Cell \u001b[1;32mIn[3], line 2\u001b[0m\n\u001b[0;32m      1\u001b[0m \u001b[38;5;66;03m# Decision Tree\u001b[39;00m\n\u001b[1;32m----> 2\u001b[0m tree_model \u001b[38;5;241m=\u001b[39m \u001b[43mPipeline\u001b[49m([(\u001b[38;5;124m\"\u001b[39m\u001b[38;5;124mprep\u001b[39m\u001b[38;5;124m\"\u001b[39m, preprocess), (\u001b[38;5;124m\"\u001b[39m\u001b[38;5;124mmodel\u001b[39m\u001b[38;5;124m\"\u001b[39m, DecisionTreeClassifier())])\n",
      "\u001b[1;31mNameError\u001b[0m: name 'Pipeline' is not defined"
     ]
    }
   ],
   "source": [
    "# Decision Tree\n",
    "tree_model = Pipeline([(\"prep\", preprocess), (\"model\", DecisionTreeClassifier())])\n"
   ]
  },
  {
   "cell_type": "code",
   "execution_count": null,
   "id": "f0488f90-bb43-426f-8379-265384cac6e7",
   "metadata": {},
   "outputs": [],
   "source": []
  },
  {
   "cell_type": "code",
   "execution_count": 45,
   "id": "6d3f636f-df8b-48c1-a08e-53f7df7a8f71",
   "metadata": {},
   "outputs": [],
   "source": [
    "# Random Forest\n",
    "rf_model = Pipeline([(\"prep\", preprocess), (\"model\", RandomForestClassifier(n_estimators=200))])\n"
   ]
  },
  {
   "cell_type": "code",
   "execution_count": null,
   "id": "256c0a7e-72ea-4258-98ea-a89b84cab64a",
   "metadata": {},
   "outputs": [],
   "source": []
  },
  {
   "cell_type": "code",
   "execution_count": 47,
   "id": "2dbee739-2e69-4b4e-8a9f-57d805ed6400",
   "metadata": {},
   "outputs": [],
   "source": [
    "# Linear SVM\n",
    "svm_model = Pipeline([(\"prep\", preprocess), (\"model\", LinearSVC())])\n"
   ]
  },
  {
   "cell_type": "markdown",
   "id": "c43ad180-5b91-42a0-86d2-19c06d137eed",
   "metadata": {},
   "source": [
    "# Compare the results of model performance"
   ]
  },
  {
   "cell_type": "code",
   "execution_count": 49,
   "id": "b8e2a673-087b-4e5b-9edd-81a6509c5005",
   "metadata": {},
   "outputs": [
    {
     "data": {
      "image/png": "[encoded data removed]",
      "text/plain": [
       "<Figure size 640x480 with 1 Axes>"
      ]
     },
     "metadata": {},
     "output_type": "display_data"
    }
   ],
   "source": [
    "# Compare accuracies\n",
    "model_names = [\"Logistic Regression\", \"Decision Tree\", \"Random Forest\", \"Linear SVM\"]\n",
    "#accuracies = [model1, model2, model3, model4]\n",
    "\n",
    "plt.bar(model_names, accuracies, color=[\"skyblue\", \"orange\", \"green\", \"red\"])\n",
    "plt.ylim(0, 1.05)\n",
    "plt.ylabel(\"Accuracy\")\n",
    "plt.title(\"Model Accuracy Comparison\")\n",
    "for i, acc in enumerate(accuracies):\n",
    "    plt.text(i, acc + 0.02, f\"{acc:.2f}\", ha=\"center\")\n",
    "plt.show()"
   ]
  },
  {
   "cell_type": "markdown",
   "id": "8978993a-2a13-46aa-a483-6cabf6d070fc",
   "metadata": {},
   "source": [
    "# Select best perfoming model for use"
   ]
  },
  {
   "cell_type": "code",
   "execution_count": 6,
   "id": "d95e8316-7c3d-4873-a05a-0d7091d09ee0",
   "metadata": {},
   "outputs": [],
   "source": [
    "# Pick best model\n",
    "#best_index = np.argmax(accuracies)\n",
    "# best_model_name = model_names[best_index]\n",
    "# best_model = [logreg_model, tree_model, rf_model, svm_model][best_index]\n",
    "\n",
    "# print(f\"Best Model: {best_model_name} (Accuracy: {accuracies[best_index]:.2f})\")\n",
    "# y_pred_best = best_model.predict(X_test)\n",
    "\n",
    "# print(\"\\nClassification Report:\")\n",
    "# print(classification_report(y_test, y_pred_best))\n",
    "\n",
    "# cm = confusion_matrix(y_test, y_pred_best, labels=[\"no\", \"yes\"])\n",
    "# ConfusionMatrixDisplay(confusion_matrix=cm, display_labels=[\"No\", \"Yes\"]).plot(cmap=plt.cm.Blues)\n",
    "# plt.title(f\"Confusion Matrix - {best_model_name}\")\n",
    "# plt.show()\n"
   ]
  },
  {
   "cell_type": "markdown",
   "id": "245f4d9d-dd15-406d-a8d8-a1784e20a2a6",
   "metadata": {},
   "source": [
    "# Save the model as a pickle file to be used on the streamlit app"
   ]
  },
  {
   "cell_type": "code",
   "execution_count": 4,
   "id": "d77ecdf9-a526-4f2b-a781-7871ed18a3ca",
   "metadata": {},
   "outputs": [],
   "source": [
    "\n",
    "# Save model\n",
    "# joblib.dump(best_model, ARTIFACTS_DIR / \"best_weather_model.pkl\")\n",
    "\n",
    "# # Convert NumPy types to native Python types for JSON\n",
    "# metadata = {\n",
    "#     col: sorted(df[col].dropna().unique().tolist())  # convert to list of Python objects\n",
    "#     for col in X.columns\n",
    "# }\n",
    "# with open(ARTIFACTS_DIR / \"metadata.json\", \"w\") as f:\n",
    "#     json.dump(metadata, f, indent=4)\n",
    "\n",
    "# print(\"Model and metadata saved in 'artifacts/' folder.\")\n",
    "\n"
   ]
  },
  {
   "cell_type": "code",
   "execution_count": null,
   "id": "3723dedd-1366-4ff7-93b3-5c945260998b",
   "metadata": {},
   "outputs": [],
   "source": []
  }
 ],
 "metadata": {
  "kernelspec": {
   "display_name": "Python [conda env:base] *",
   "language": "python",
   "name": "conda-base-py"
  },
  "language_info": {
   "codemirror_mode": {
    "name": "ipython",
    "version": 3
   },
   "file_extension": ".py",
   "mimetype": "text/x-python",
   "name": "python",
   "nbconvert_exporter": "python",
   "pygments_lexer": "ipython3",
   "version": "3.12.7"
  }
 },
 "nbformat": 4,
 "nbformat_minor": 5
}
